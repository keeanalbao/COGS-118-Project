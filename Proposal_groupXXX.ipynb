{
  "cells": [
    {
      "cell_type": "markdown",
      "metadata": {
        "id": "view-in-github",
        "colab_type": "text"
      },
      "source": [
        "<a href=\"https://colab.research.google.com/github/rhlin2024/group_template/blob/main/Proposal_groupXXX.ipynb\" target=\"_parent\"><img src=\"https://colab.research.google.com/assets/colab-badge.svg\" alt=\"Open In Colab\"/></a>"
      ]
    },
    {
      "cell_type": "markdown",
      "metadata": {
        "id": "G-vK_fOb5Mci"
      },
      "source": [
        "# COGS 118B - Project Proposal"
      ]
    },
    {
      "cell_type": "markdown",
      "metadata": {
        "id": "mLGUs7JQ5Mcl"
      },
      "source": [
        "# Project Description\n",
        "\n",
        "You will design and execute a machine learning project. There are a few constraints on the nature of the allowed project.\n",
        "- The problem addressed will not be a \"toy problem\" or \"common training students problem\" like mtcars, iris, palmer penguins etc.\n",
        "- The dataset will have >1k observations and >5 variables. I'd prefer more like >10k observations and >10 variables. A general rule is that if you have >100x more observations than variables, your solution will likely generalize a lot better. The goal of training an unsupervised machine learning model is to learn the underlying pattern in a dataset in order to generalize well to unseen data, so choosing a large dataset is very important.\n",
        "\n",
        "- The project must include some elements of unsupervised learning, but you are welcome to include some supervised or other learning approaches as well.\n",
        "- The project will include a model selection and/or feature selection component where you will be looking for the best setup to maximize the performance of your ML system.\n",
        "- You will evaluate the performance of your ML system using more than one appropriate metric\n",
        "- You will be writing a report describing and discussing these accomplishments\n",
        "\n",
        "\n",
        "Feel free to delete this description section when you hand in your proposal."
      ]
    },
    {
      "cell_type": "markdown",
      "metadata": {
        "id": "U2p6g3jX5Mcm"
      },
      "source": [
        "# Names\n",
        "\n",
        "Hopefully your team is at least this good. Obviously you should replace these with your names.\n",
        "\n",
        "- Francisco Downey\n",
        "- Keean Albao\n",
        "- Richard Lin"
      ]
    },
    {
      "cell_type": "markdown",
      "metadata": {
        "id": "kv-AVl0-5Mcm"
      },
      "source": [
        "# Abstract\n",
        "This section should be short and clearly stated. It should be a single paragraph <200 words.  It should summarize:\n",
        "- what your goal/problem is\n",
        "- what the data used represents and how they are measured\n",
        "- what you will be doing with the data\n",
        "- how performance/success will be measured\n",
        "\n",
        "The goal of our project is to segment customers into so that companies, are able to direct marketing to certain customers to retain customers and increase revenue. The data at hand represents state wide customers and the detailed description of their purchase at a particular season. With the data, the project looks to utilize K-means clustering as a means to group customers. By doing so, when a new customer makes a purchase, they can be accurately cateogorized into a group and thus allowing companies to directly market to that customer. Silhouette analysis will be used to ensure accuracy of our clusters. In order to categorize, k-nearest neighbors will be used alongside K-Means.\n",
        "\n"
      ]
    },
    {
      "cell_type": "markdown",
      "metadata": {
        "id": "9e5En8Fc5Mcm"
      },
      "source": [
        "# Background\n",
        "\n",
        "Online retailers and e-commerce are becoming increasingly relevant and convenient within recent years. Some of the most popular of these online stores include Amazon, eBay, Kroger, and Etsy. People use online shopping for many of their necessary and impulse purchases, including groceries, household items, clothes, and so on. Even though physical store visits and sales for many product categories are still higher than those of online retailers, the number of online shoppers and e-commerce revenue consistently grows every year<a name=\"radu\"></a>[<sup>[1]</sup>](#radunote).\n",
        "\n",
        "When it comes to online shopping, it is crucial for businesses to understand consumer behavior and shopping habits in order to optimize their marketing strategies. There are many factors that influence consumer behavior. Some of these include personal factors (demographics such as age, gender, and location), psychological factors (consumer responses to marketing messages), and social factors (family dynamics, peer influence, social media presence, and income levels)<a name=\"statista\"></a>[<sup>[2]</sup>](#statistanote)."
      ]
    },
    {
      "cell_type": "markdown",
      "metadata": {
        "id": "v8BdjgtX5Mcn"
      },
      "source": [
        "# Problem Statement\n",
        "\n",
        "Clearly describe the problem that you are solving. Avoid ambiguous words. The problem described should be well defined and should have at least one ML-relevant potential solution. Additionally, describe the problem thoroughly such that it is clear that the problem is quantifiable (the problem can be expressed in mathematical or logical terms), measurable (the problem can be measured by some metric and clearly observed), and replicable (the problem can be reproduced and occurs more than once).\n",
        "\n",
        "The problem that we want to solve is what are the different customer similarity groups based on data containing consumer behaviors, demographics, and shopping habits (e.g. age, gender, item purchased, season, location, etc.), and what can businesses do in order to market their products towards these different groups and retain customers?\n",
        "\n",
        "This problem can be quantified by the various features in the data (e.g. age, gender, item purchased, purchase amount), and by using K-Means Clustering in order to assign each data point to a cluster by using distance metrics such as Euclidean distance, and then creating labels for each cluster to differentiate them.\n",
        "\n",
        "This problem can be measured by evaluating clustering performance metrics such as silhouette analysis. Once clusters are formed, we can examine the cluster centroids as well as implement visualization techniques in order to distinguish clusters from one another.\n",
        "\n",
        "This problem can be replicated using the same dataset and techniques since initializing K-Means centroids is done randomly, so there may be some different results for the groups. On the other hand, the problem can be replicated using a completely different dataset containing different features, as well as a different clustering algorithm. This may lead to different results as well."
      ]
    },
    {
      "cell_type": "markdown",
      "metadata": {
        "id": "WgtlxEhk5Mcn"
      },
      "source": [
        "# Data\n",
        "\n",
        "You should have a strong idea of what dataset(s) will be used to accomplish this project.\n",
        "\n",
        "If you know what (some) of the data you will use, please give the following information for each dataset:\n",
        "- link/reference to obtain it\n",
        "- description of the size of the dataset (# of variables, # of observations)\n",
        "- what an observation consists of\n",
        "- what some critical variables are, how they are represented\n",
        "- any special handling, transformations, cleaning, etc will be needed\n",
        "\n",
        "If you don't yet know what your dataset(s) will be, you should describe what you desire in terms of the above bullets.\n",
        "\n",
        "\n",
        "The dataset being used is from the following link. The dataset has 18 variables and 3900 observations. Each observation has age, gender, item purchased, category of the purchase, purchase amount, location, size of purchase, color of purchase, season in which purchase took place, review rating, subscription status, shipping type, if a discount or promo code was applied, previous purchases, payment method, and frequency of purchases. The critical values are age(integer), gender(Male or Female), category of purchase(string), purchase amount(integer representing dollar amount), location(string of state), size of purchase(S,M,L,XL), season(string of one of four possible seasons), and previous purchases(integer). There will be no cleaning necessary due to the fact that each variable follows the sam format for each observation."
      ]
    },
    {
      "cell_type": "markdown",
      "metadata": {
        "id": "t3jdHmsB5Mcn"
      },
      "source": [
        "# Proposed Solution\n",
        "\n",
        "In this section, clearly describe a solution to the problem. The solution should be applicable to the project domain and appropriate for the dataset(s) or input(s) given. Provide enough detail (e.g., algorithmic description and/or theoretical properties) to convince us that your solution is applicable. Why might your solution work? Make sure to describe how the solution will be tested.  \n",
        "\n",
        "If you know details already, describe how (e.g., library used, function calls) you plan to implement the solution in a way that is reproducible.\n",
        "\n",
        "If it is appropriate to the problem statement, describe a benchmark model<a name=\"sota\"></a>[<sup>[3]</sup>](#sotanote) against which your solution will be compared."
      ]
    },
    {
      "cell_type": "markdown",
      "metadata": {
        "id": "sa8Uwx9H5Mco"
      },
      "source": [
        "# Evaluation Metrics\n",
        "\n",
        "Propose at least one evaluation metric that can be used to quantify the performance of both the benchmark model and the solution model. The evaluation metric(s) you propose should be appropriate given the context of the data, the problem statement, and the intended solution. Describe how the evaluation metric(s) are derived and provide an example of their mathematical representations (if applicable). Complex evaluation metrics should be clearly defined and quantifiable (can be expressed in mathematical or logical terms).\n",
        "\n",
        "In order to ensure the clustering is accurate, silhouette analysis will be conducted. For each data point the following equation will be followed: The data point's average distance from all data points in its cluster will be subtracted from the data point's average distance from all data points in the neighboring cluster. This value divided by the max of the aforementioned average distances will provide the silhouette coefficient. The desired coefficient will be as close to +1 as possible, representing highly dense clustering."
      ]
    },
    {
      "cell_type": "markdown",
      "metadata": {
        "id": "cYadbS-N5Mco"
      },
      "source": [
        "# Ethics & Privacy"
      ]
    },
    {
      "cell_type": "markdown",
      "metadata": {
        "id": "VqygRy8j5Mco"
      },
      "source": [
        "If your project has obvious potential concerns with ethics or data privacy discuss that here.  Almost every ML project put into production can have ethical implications if you use your imagination. Use your imagination. Get creative!\n",
        "\n",
        "Even if you can't come up with an obvious ethical concern that should be addressed, you should know that a large number of ML projects that go into producation have unintended consequences and ethical problems once in production. How will your team address these issues?\n",
        "\n",
        "Consider a tool to help you address the potential issues such as https://deon.drivendata.org"
      ]
    },
    {
      "cell_type": "markdown",
      "metadata": {
        "id": "gUovd_ZO5Mco"
      },
      "source": [
        "# Team Expectations"
      ]
    },
    {
      "cell_type": "markdown",
      "metadata": {
        "id": "8yn8bJ_e5Mco"
      },
      "source": [
        "Put things here that cement how you will interact/communicate as a team, how you will handle conflict and difficulty, how you will handle making decisions and setting goals/schedule, how much work you expect from each other, how you will handle deadlines, etc...\n",
        "* Weekly meetings are required during a time that works for all members\n",
        "* Completion of tasks assigned to within reasonable time and effort\n",
        "* Communication of a new idea, problem, or suggestion\n",
        "* Everyone should feel included and be able to speak up if they don't agree on something, or if they don't feel comfortable with something\n",
        "* Everyone should understand that we all have other stuff to do in our lives, so putting too much pressure on others to finish their tasks would be unnecessary\n",
        "* ..."
      ]
    },
    {
      "cell_type": "markdown",
      "metadata": {
        "id": "Qrrg_rxj5Mcp"
      },
      "source": [
        "# Project Timeline Proposal"
      ]
    },
    {
      "cell_type": "markdown",
      "metadata": {
        "id": "0893WcXs5Mcp"
      },
      "source": [
        "| Meeting Date | Meeting Time | Completed Before Meeting | Discuss at Meeting |\n",
        "|---|---|---|---|\n",
        "| 2/19 | 11 AM | Brainstorm topics/questions | Discuss/decide on final project topic; work on proposal |\n",
        "| 2/22 | 12 PM | Edit, finalize, and submit proposal | Discuss next steps of project; assign responsibilities |\n",
        "| 2/29 | 12 PM | Import/wrangle data; perform EDA | Review/edit wrangling/EDA; discuss analysis; assign responsibilities |\n",
        "| 3/7  | 12 PM | Complete analysis | Discuss results; assign responsibilities |\n",
        "| 3/14 | 12 PM | Draft results/conclusion/discussion | Discuss/edit full project |\n",
        "| 3/17 | Before 11:59 PM | NA | Turn in Final Project |"
      ]
    },
    {
      "cell_type": "markdown",
      "metadata": {
        "id": "wCzVpJSo5Mcp"
      },
      "source": [
        "# Footnotes\n",
        "\n",
        "<a name=\"radunote\"></a>1.[^](#radu): Radu, V. (2 Feb 2024) Consumer Behavior in Marketing. Patterns, Types & Segmentation. *Omniconvert*. https://www.omniconvert.com/blog/consumer-behavior-in-marketing-patterns-types-segmentation/<br>\n",
        "<a name=\"statistanote\"></a>2.[^](#statista): Statista. Shopping Behavior. *Statista*. https://www.statista.com/markets/423/topic/536/shopping-behavior/#overview<br>"
      ]
    },
    {
      "cell_type": "code",
      "execution_count": null,
      "metadata": {
        "id": "meGqdRvi5Mcp"
      },
      "outputs": [],
      "source": []
    }
  ],
  "metadata": {
    "kernelspec": {
      "display_name": "Python 3 (ipykernel)",
      "language": "python",
      "name": "python3"
    },
    "language_info": {
      "codemirror_mode": {
        "name": "ipython",
        "version": 3
      },
      "file_extension": ".py",
      "mimetype": "text/x-python",
      "name": "python",
      "nbconvert_exporter": "python",
      "pygments_lexer": "ipython3",
      "version": "3.10.0"
    },
    "colab": {
      "provenance": [],
      "include_colab_link": true
    }
  },
  "nbformat": 4,
  "nbformat_minor": 0
}
